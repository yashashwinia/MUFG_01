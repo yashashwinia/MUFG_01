{
 "cells": [
  {
   "cell_type": "markdown",
   "id": "046b60f2-5cf7-4c1e-b47a-f569ccdcf2ec",
   "metadata": {},
   "source": [
    "## Python Code Learning"
   ]
  },
  {
   "cell_type": "markdown",
   "id": "7d1049dd-9a52-475a-b81c-a1d766fde943",
   "metadata": {},
   "source": [
    "This Jupyter Notebook Contains extensive examples of\n",
    "* Python Language Elements\n",
    "* Built-in data types\n",
    "* Numpy Library functions for Array Management\n",
    "* Pandas Library Data Structures - Series and DataFrames\n",
    "* String Operations\n",
    "* Date/Time Operations"
   ]
  },
  {
   "cell_type": "markdown",
   "id": "b4dd622a-5c66-4adc-9666-a64cce3b42e1",
   "metadata": {},
   "source": [
    "## Variables and Datatypes\n",
    "* Integer: Integer variables can hold Integers such as 1, 10, 100, 650, etc. They cannot store values such as 12.5.\n",
    "* Float: Floating point variables can hold values such as 12.5, 126.7897, etc. However, they can also store 1, 2, 3 or 78 (Integers).\n",
    "* Boolean: Boolean variables can hold a Boolean Value, i.e. True or False\n",
    "* String: A string type variable can store value such as “My name is John Doe” or “X”."
   ]
  },
  {
   "cell_type": "code",
   "execution_count": 4,
   "id": "18becd3b-615d-4bd4-baca-b809ea689779",
   "metadata": {},
   "outputs": [
    {
     "name": "stdout",
     "output_type": "stream",
     "text": [
      "5\n",
      "My name is John Doe\n",
      "12.678\n",
      "True\n"
     ]
    }
   ],
   "source": [
    "# Creating Variables\n",
    "i = 5\n",
    "print(i)\n",
    "str1 = \"My name is John Doe\"\n",
    "print(str1)\n",
    "flt = 12.678\n",
    "print(flt)\n",
    "bln = True\n",
    "print(bln)"
   ]
  },
  {
   "cell_type": "markdown",
   "id": "fa938aba-7a92-4371-80fe-eff24c1906f1",
   "metadata": {},
   "source": [
    "##### Printing the Type of Variables"
   ]
  },
  {
   "cell_type": "code",
   "execution_count": 5,
   "id": "399453eb-0184-4a2e-8cd0-16e49a1a19bb",
   "metadata": {},
   "outputs": [
    {
     "name": "stdout",
     "output_type": "stream",
     "text": [
      "<class 'int'>\n",
      "<class 'type'>\n",
      "<class 'float'>\n",
      "<class 'bool'>\n"
     ]
    }
   ],
   "source": [
    "# Print the Type of each of the variables\n",
    "print(type(i))\n",
    "print(type(str))\n",
    "print(type(flt))\n",
    "print(type(bln))"
   ]
  },
  {
   "cell_type": "markdown",
   "id": "7e991b5d-0e6a-4c76-a123-a4b2f3c74e07",
   "metadata": {},
   "source": [
    "###### Interestingly, Python allows the programmer to assign a value to a variable different from the initial type of value assigned. Python dynamically changes the type of the variable at run-time and continues. "
   ]
  },
  {
   "cell_type": "code",
   "execution_count": 6,
   "id": "b89c8268-1d37-4961-ae33-7d0d6754f9ab",
   "metadata": {},
   "outputs": [
    {
     "name": "stdout",
     "output_type": "stream",
     "text": [
      "5\n",
      "Changed to a String\n"
     ]
    }
   ],
   "source": [
    "# A string value is passed without any problem \n",
    "i = 5\n",
    "print(i)\n",
    "i = \"Changed to a String\"\n",
    "print(i)"
   ]
  },
  {
   "cell_type": "markdown",
   "id": "82aae3ca-76d7-45fd-a3df-bdc621356404",
   "metadata": {},
   "source": [
    "## Python supports a number of types of operators.\n",
    "* Arithmetic Operators\n",
    "* Comparison (Relational) Operators\n",
    "* Assignment Operators\n",
    "* Logical Operators\n",
    "* Bitwise Operators\n",
    "* Membership Operators\n",
    "* Identity Operators"
   ]
  },
  {
   "cell_type": "markdown",
   "id": "680dbce6-ba03-4972-b889-a7e6ff895ed9",
   "metadata": {},
   "source": [
    "### Arithmetic Operators"
   ]
  },
  {
   "cell_type": "code",
   "execution_count": 28,
   "id": "a64a1d74-5bd8-48cc-af40-67235e6a878a",
   "metadata": {},
   "outputs": [
    {
     "name": "stdout",
     "output_type": "stream",
     "text": [
      "a: 21 b: 10 a+b: 31\n",
      "a: 21 b: 10 a-b: 11\n",
      "a: 21 b: 10 a*b: 210\n",
      "a: 21 b: 10 a/b: 2.1\n",
      "a: 21 b: 10 a%b: 1\n",
      "a: 2 b: 3 a**b: 8\n",
      "a: 10 b: 5 a//b: 2\n"
     ]
    }
   ],
   "source": [
    "a = 21\n",
    "b = 10\n",
    "c = 0\n",
    "\n",
    "c = a + b\n",
    "print (\"a: {} b: {} a+b: {}\".format(a,b,c))\n",
    "\n",
    "c = a - b\n",
    "print (\"a: {} b: {} a-b: {}\".format(a,b,c) )\n",
    "\n",
    "c = a * b\n",
    "print (\"a: {} b: {} a*b: {}\".format(a,b,c))\n",
    "\n",
    "c = a / b\n",
    "print (\"a: {} b: {} a/b: {}\".format(a,b,c))\n",
    "\n",
    "c = a % b\n",
    "print (\"a: {} b: {} a%b: {}\".format(a,b,c))\n",
    "\n",
    "a = 2\n",
    "b = 3\n",
    "c = a**b \n",
    "print (\"a: {} b: {} a**b: {}\".format(a,b,c))\n",
    "\n",
    "a = 10\n",
    "b = 5\n",
    "c = a//b \n",
    "print (\"a: {} b: {} a//b: {}\".format(a,b,c))"
   ]
  },
  {
   "cell_type": "markdown",
   "id": "dfa06d8c-d6ff-4644-aeca-475e6b659ebf",
   "metadata": {},
   "source": [
    "### Comparison Operators\n"
   ]
  },
  {
   "cell_type": "code",
   "execution_count": 31,
   "id": "3d7fbb77-2c41-4daf-bfc5-4e36e9e2dc99",
   "metadata": {},
   "outputs": [
    {
     "name": "stdout",
     "output_type": "stream",
     "text": [
      "Line 1 - a is not equal to b\n",
      "Line 2 - a is not equal to b\n",
      "Line 3 - a is not less than b\n",
      "Line 4 - a is greater than b\n",
      "Line 5 - a is either less than or equal to  b\n",
      "Line 6 - b is either greater than  or equal to b\n"
     ]
    }
   ],
   "source": [
    "a = 21\n",
    "b = 10\n",
    "if ( a == b ):\n",
    "   print (\"Line 1 - a is equal to b\")\n",
    "else:\n",
    "   print (\"Line 1 - a is not equal to b\")\n",
    "\n",
    "if ( a != b ):\n",
    "   print (\"Line 2 - a is not equal to b\")\n",
    "else:\n",
    "   print (\"Line 2 - a is equal to b\")\n",
    "\n",
    "if ( a < b ):\n",
    "   print (\"Line 3 - a is less than b\" )\n",
    "else:\n",
    "   print (\"Line 3 - a is not less than b\")\n",
    "\n",
    "if ( a > b ):\n",
    "   print (\"Line 4 - a is greater than b\")\n",
    "else:\n",
    "   print (\"Line 4 - a is not greater than b\")\n",
    "\n",
    "a,b=b,a #values of a and b swapped. a becomes 10, b becomes 21\n",
    "\n",
    "if ( a <= b ):\n",
    "   print (\"Line 5 - a is either less than or equal to  b\")\n",
    "else:\n",
    "   print (\"Line 5 - a is neither less than nor equal to  b\")\n",
    "\n",
    "if ( b >= a ):\n",
    "   print (\"Line 6 - b is either greater than  or equal to b\")\n",
    "else:\n",
    "   print (\"Line 6 - b is neither greater than  nor equal to b\")\n",
    "\n"
   ]
  },
  {
   "cell_type": "markdown",
   "id": "f4b91346-4935-44c5-9ee6-543d1dfeae14",
   "metadata": {},
   "source": [
    "### Assignment Operators"
   ]
  },
  {
   "cell_type": "code",
   "execution_count": 30,
   "id": "f8d26b9f-4070-41d1-a5f9-6a8cfe051792",
   "metadata": {},
   "outputs": [
    {
     "name": "stdout",
     "output_type": "stream",
     "text": [
      "a: 21 b: 10 c : 0\n",
      "a: 21  c = a + b: 31\n",
      "a: 21 c += a: 52\n",
      "a: 21 c *= a: 1092\n",
      "a: 21 c /= a : 52.0\n",
      "a: 21 b: 10 c : 2\n",
      "a: 21 c %= a: 2\n",
      "a: 21 c **= a: 2097152\n",
      "a: 21 c //= a: 99864\n"
     ]
    }
   ],
   "source": [
    "a = 21\n",
    "b = 10\n",
    "c = 0\n",
    "print (\"a: {} b: {} c : {}\".format(a,b,c))\n",
    "c = a + b\n",
    "print (\"a: {}  c = a + b: {}\".format(a,c))\n",
    "\n",
    "c += a\n",
    "print (\"a: {} c += a: {}\".format(a,c))\n",
    "\n",
    "c *= a\n",
    "print (\"a: {} c *= a: {}\".format(a,c))\n",
    "\n",
    "c /= a \n",
    "print (\"a: {} c /= a : {}\".format(a,c))\n",
    "\n",
    "c  = 2\n",
    "print (\"a: {} b: {} c : {}\".format(a,b,c))\n",
    "c %= a\n",
    "print (\"a: {} c %= a: {}\".format(a,c))\n",
    "\n",
    "c **= a\n",
    "print (\"a: {} c **= a: {}\".format(a,c))\n",
    "\n",
    "c //= a\n",
    "print (\"a: {} c //= a: {}\".format(a,c))"
   ]
  },
  {
   "cell_type": "code",
   "execution_count": 7,
   "id": "a942401c-87f3-4798-8cc0-55d357b1837a",
   "metadata": {},
   "outputs": [
    {
     "name": "stdout",
     "output_type": "stream",
     "text": [
      "11\n",
      "John Doe\n"
     ]
    }
   ],
   "source": [
    "i = 5\n",
    "j = 6\n",
    "print(i+j)\n",
    "# \n",
    "str1 = \"John \"\n",
    "str2 = \"Doe\"\n",
    "print(str1 + str2)"
   ]
  },
  {
   "cell_type": "markdown",
   "id": "e647690a-5421-48c8-9563-e05a04d625a3",
   "metadata": {},
   "source": [
    "#### Find the Modulus"
   ]
  },
  {
   "cell_type": "code",
   "execution_count": 9,
   "id": "252870e0-7e3f-4fea-9ff9-bd6e0aa71318",
   "metadata": {},
   "outputs": [
    {
     "name": "stdout",
     "output_type": "stream",
     "text": [
      "2\n"
     ]
    }
   ],
   "source": [
    "i = 30\n",
    "j = 7\n",
    "print(i%j)"
   ]
  },
  {
   "cell_type": "markdown",
   "id": "5b8af707-970c-4056-84a2-22e933c30f69",
   "metadata": {},
   "source": [
    "### Conditions in Python"
   ]
  },
  {
   "cell_type": "code",
   "execution_count": 10,
   "id": "3c037c09-6215-4943-9eb9-1c25f5bbb7f9",
   "metadata": {},
   "outputs": [
    {
     "name": "stdout",
     "output_type": "stream",
     "text": [
      "Inequal\n"
     ]
    }
   ],
   "source": [
    "# Checking Conditions\n",
    "x = 7\n",
    "y = 9\n",
    "if x == y:\n",
    "    print(\"Equal\")\n",
    "else: \n",
    "    print(\"Inequal\")"
   ]
  },
  {
   "cell_type": "code",
   "execution_count": 11,
   "id": "247f132c-3f96-49e4-be01-3c55363bc1a1",
   "metadata": {},
   "outputs": [
    {
     "name": "stdout",
     "output_type": "stream",
     "text": [
      "Condition Met – Multiline Block\n",
      "Condition Met\n"
     ]
    }
   ],
   "source": [
    "# Checking Conditions (Multiple Simultaneous Conditions)\n",
    "x = 7\n",
    "y = 9\n",
    "if x == 7 and y < 10:\n",
    "    print(\"Condition Met – Multiline Block\")\n",
    "    print(\"Condition Met\")\n",
    "else:\n",
    "    print(\"Condition not Met – Multiline Block\")\n",
    "    print(\"Condition not Met\")"
   ]
  },
  {
   "cell_type": "code",
   "execution_count": 12,
   "id": "8d65db08-59e3-44e8-a1f3-f337b1dd31ff",
   "metadata": {},
   "outputs": [
    {
     "name": "stdout",
     "output_type": "stream",
     "text": [
      "x is smaller than y\n"
     ]
    }
   ],
   "source": [
    "# Checking Conditions (Multiple Conditions)\n",
    "x = 7\n",
    "y = 9\n",
    "if x == y:\n",
    "    print(\"Equal\")\n",
    "elif x > y:\n",
    "    print(\"x is greater than y\")\n",
    "elif x < y:\n",
    "    print(\"x is smaller than y\")"
   ]
  },
  {
   "cell_type": "markdown",
   "id": "61dbc908-dd46-4e05-a9b6-de30dba930a7",
   "metadata": {},
   "source": [
    "## Points from the above example:\n",
    "* Note the use of ‘elif’ interpreted as ‘else if’ to check further conditions\n",
    "* ‘else’ is used to perform an action if none of the above conditions are met\n",
    "* ‘and’ is used to check multiple conditions together\n",
    "* ‘or’ is to be used in place of ‘and’ if the condition is ‘if this’ or ‘that’ then perform the subsequent action"
   ]
  },
  {
   "cell_type": "code",
   "execution_count": 13,
   "id": "5b7bf518-e32b-4b0b-b39a-e9fe804392ef",
   "metadata": {},
   "outputs": [
    {
     "name": "stdout",
     "output_type": "stream",
     "text": [
      "False\n"
     ]
    }
   ],
   "source": [
    "# Checking for Boolean\n",
    "x = True\n",
    "if x == False:\n",
    "    print(x)\n",
    "else:\n",
    "    print(False)"
   ]
  },
  {
   "cell_type": "markdown",
   "id": "b8251a11-79d4-4a85-9147-037b311dddaf",
   "metadata": {},
   "source": [
    "##### Nested Conditions: Nested conditions are used when further conditions are to be checked based on the True/False status of the outer conditions."
   ]
  },
  {
   "cell_type": "code",
   "execution_count": 14,
   "id": "97e77dcb-b553-4adc-96fa-9c9470974988",
   "metadata": {},
   "outputs": [
    {
     "name": "stdout",
     "output_type": "stream",
     "text": [
      "Nested Condition Met\n"
     ]
    }
   ],
   "source": [
    "# Nested ‘if’\n",
    "x = 7\n",
    "y = 9\n",
    "if x < y:\n",
    "    if x > 5:\n",
    "        print(\"Nested Condition Met\")\n",
    "    else:\n",
    "        print(\"Inner nested False Block\")\n",
    "else:\n",
    "    print(\"Outer nested False Block\")"
   ]
  },
  {
   "cell_type": "code",
   "execution_count": null,
   "id": "d7bb9e04-0b3c-4f5f-b78b-57cd43419559",
   "metadata": {},
   "outputs": [],
   "source": [
    "if c"
   ]
  },
  {
   "cell_type": "markdown",
   "id": "af66c7f3-7c96-4834-b7b8-0d296ae14c36",
   "metadata": {},
   "source": [
    "## Indentation and Block marking: Note that after each condition line, a ‘:’ sign is used to denote the line as a conditional construct line.\n",
    "* The action following the condition line, ended by ‘:’ is the action block.\n",
    "* Note that unlike C/C++/Java, Python does not use a block denoting character like ‘{}’.\n",
    "* Blocks in Python are to be perfectly indented after the starting line (e.g. ‘if’/’elif’/’else’).\n",
    "* Each line in a block are to be similarly indented, otherwise it results in an error. This indentation need or property of Python is also known as the ‘Off-side Rule’.\n",
    "* Apart from Python, a few other computer languages (such as, Cobra, Coffeescript, Curry, Elixir, etc) follow the Off-side rule."
   ]
  },
  {
   "cell_type": "markdown",
   "id": "337be1b2-6274-4734-986e-d96275e5bba4",
   "metadata": {},
   "source": [
    "##### There are various types of Loops or Iterations supported by Python for different types of uses and based on various types of inputs provided to it. "
   ]
  },
  {
   "cell_type": "markdown",
   "id": "c821d167-782b-42fd-b3e5-bdb5115a2dde",
   "metadata": {},
   "source": [
    "##### Definite Iteration: When we know the number of times the loop will iterate."
   ]
  },
  {
   "cell_type": "code",
   "execution_count": 15,
   "id": "5850956d-c516-460f-9973-e1d151a70438",
   "metadata": {},
   "outputs": [
    {
     "name": "stdout",
     "output_type": "stream",
     "text": [
      "Iteration  1\n",
      "Iteration  2\n",
      "Iteration  3\n",
      "Iteration  4\n",
      "Iteration  5\n",
      "Final value of m =  15\n"
     ]
    }
   ],
   "source": [
    "# Example of Definite Iteration\n",
    "l = 5\n",
    "m = 0 \n",
    "i = 0\n",
    "while l > 0:\n",
    "    m += l  # m = m + l\n",
    "    l-=1    # l = l - 1\n",
    "    i+=1    # i = i + 1\n",
    "    print(\"Iteration \", i)\n",
    "print(\"Final value of m = \", m)"
   ]
  },
  {
   "cell_type": "markdown",
   "id": "26b0d187-6ff8-4f30-b83f-175542b264cf",
   "metadata": {},
   "source": [
    "##### Indefinite Iteration: In the case of an Indefinite Iteration, one of the variables used as part of the condition is dynamic and is determined at runtime (e.g. in the above example, if the value of variable ‘l’ if not fixed and is determined dynamically by the program at runtime). Thereby, estimating the number of times the loop will iterate will not be possible by looking at the code. "
   ]
  },
  {
   "cell_type": "code",
   "execution_count": 16,
   "id": "2b70f256-d6ee-4db9-82fc-003a33ce6207",
   "metadata": {},
   "outputs": [
    {
     "name": "stdout",
     "output_type": "stream",
     "text": [
      "Sunday\n",
      "Monday\n",
      "Tuesday\n"
     ]
    }
   ],
   "source": [
    "# Example of 'for' loop for a List\n",
    "WeekdaysList = [\"Sunday\", \"Monday\", \"Tuesday\"]\n",
    "for x in WeekdaysList:\n",
    "    print(x)"
   ]
  },
  {
   "cell_type": "code",
   "execution_count": 17,
   "id": "4c5b6902-1092-4a60-8035-6bd1d49e924b",
   "metadata": {},
   "outputs": [
    {
     "name": "stdout",
     "output_type": "stream",
     "text": [
      "India\n",
      "US\n",
      "UK\n",
      "Germany\n"
     ]
    }
   ],
   "source": [
    "# Example of 'for' loop for a Tuple\n",
    "CountryTuple = (\"India\", \"US\", \"UK\", \"Germany\")\n",
    "for x in CountryTuple:\n",
    "    print(x)"
   ]
  },
  {
   "cell_type": "code",
   "execution_count": 18,
   "id": "98cd2c85-8a84-4787-8a1d-3ffbeb39d5c3",
   "metadata": {},
   "outputs": [
    {
     "name": "stdout",
     "output_type": "stream",
     "text": [
      "Messi\n",
      "Neymar\n",
      "Ronaldo\n"
     ]
    }
   ],
   "source": [
    "# Example of 'for' loop for a Set\n",
    "PlayerSet = {\"Ronaldo\", \"Messi\", \"Neymar\"}\n",
    "for x in PlayerSet:\n",
    "    print(x)"
   ]
  },
  {
   "cell_type": "code",
   "execution_count": 19,
   "id": "9914d920-7ed4-46cc-9e15-641c6c29c59e",
   "metadata": {},
   "outputs": [
    {
     "name": "stdout",
     "output_type": "stream",
     "text": [
      "Name John Doe\n",
      "Age 30\n",
      "Salary 80000\n"
     ]
    }
   ],
   "source": [
    "# Example of 'for' loop for a Dictionary\n",
    "PersonDict = {\"Name\": \"John Doe\", \"Age\": 30, \"Salary\": 80000}\n",
    "for x in PersonDict:\n",
    "    print(x, PersonDict[x])"
   ]
  },
  {
   "cell_type": "code",
   "execution_count": 20,
   "id": "bf76f2a2-64f6-465f-bfcf-d069e5ed3d26",
   "metadata": {},
   "outputs": [
    {
     "name": "stdout",
     "output_type": "stream",
     "text": [
      "J\n",
      "o\n",
      "h\n",
      "n\n",
      " \n",
      "D\n",
      "o\n",
      "e\n"
     ]
    }
   ],
   "source": [
    "# Example of 'for' loop for a String\n",
    "strx = \"John Doe\"\n",
    "for x in strx:\n",
    "    print(x)"
   ]
  },
  {
   "cell_type": "markdown",
   "id": "df11cd84-99a7-4ba7-84b6-38e90521a582",
   "metadata": {},
   "source": [
    "##### Numeric Ranges"
   ]
  },
  {
   "cell_type": "code",
   "execution_count": 21,
   "id": "2db45661-b47d-4bb9-8161-4db3b1bea430",
   "metadata": {},
   "outputs": [
    {
     "name": "stdout",
     "output_type": "stream",
     "text": [
      "0  is being processed\n",
      "1  is being processed\n",
      "2  is being processed\n",
      "3  is being processed\n",
      "4  is being processed\n"
     ]
    }
   ],
   "source": [
    "# Example of 'for' loop for a Numeric Range\n",
    "for x in range(5):\n",
    "    print(x, \" is being processed\")"
   ]
  },
  {
   "cell_type": "code",
   "execution_count": 22,
   "id": "ee2ad99c-ac73-4e7f-8ced-41dc788e9fe2",
   "metadata": {},
   "outputs": [
    {
     "name": "stdout",
     "output_type": "stream",
     "text": [
      "3  is being processed\n",
      "4  is being processed\n",
      "5  is being processed\n",
      "6  is being processed\n",
      "7  is being processed\n"
     ]
    }
   ],
   "source": [
    "# Example of 'for' loop for a Numeric Range with custom start and end values\n",
    "for x in range(3,8):\n",
    "    print(x, \" is being processed\")"
   ]
  },
  {
   "cell_type": "code",
   "execution_count": 23,
   "id": "0f7ea54b-6753-42b9-9db2-7e4e2d1f1dba",
   "metadata": {},
   "outputs": [
    {
     "name": "stdout",
     "output_type": "stream",
     "text": [
      "2  is being processed\n",
      "4  is being processed\n",
      "6  is being processed\n",
      "8  is being processed\n",
      "10  is being processed\n",
      "12  is being processed\n"
     ]
    }
   ],
   "source": [
    "# Example of 'for' loop for a Numeric Range with custom start and end values and step amounts\n",
    "for x in range(2,14,2):\n",
    "    print(x, \" is being processed\")"
   ]
  },
  {
   "cell_type": "markdown",
   "id": "c39586f5-9caa-47a1-b5f3-d95c977d4fbb",
   "metadata": {},
   "source": [
    "##### Custom Iterator"
   ]
  },
  {
   "cell_type": "code",
   "execution_count": 24,
   "id": "50543b82-6aca-415e-8427-27774f029ece",
   "metadata": {},
   "outputs": [
    {
     "name": "stdout",
     "output_type": "stream",
     "text": [
      "5\n",
      "10\n",
      "15\n",
      "20\n",
      "25\n"
     ]
    }
   ],
   "source": [
    "# Creating a Custom Range\n",
    "def cust_range(start_val, end_val, step_val):\n",
    "    while start_val <= end_val:\n",
    "        yield start_val \n",
    "        start_val += step_val\n",
    "\n",
    "for x in cust_range(5, 25, 5):\n",
    "    print(x)"
   ]
  },
  {
   "cell_type": "markdown",
   "id": "fe5c1d5a-b9ec-48f7-bbe2-a71148d777c3",
   "metadata": {},
   "source": [
    "#### Break, Continue and Pass Statements"
   ]
  },
  {
   "cell_type": "code",
   "execution_count": 25,
   "id": "4ba37a58-d53d-48e9-925f-ddded29d83ac",
   "metadata": {},
   "outputs": [
    {
     "name": "stdout",
     "output_type": "stream",
     "text": [
      "5  is being processed\n",
      "10  is being processed\n",
      "15  is being processed\n",
      "20  is being processed\n",
      "Breaking away..\n"
     ]
    }
   ],
   "source": [
    "# Example of 'break'ing away from a loop\n",
    "for x in range(5,31,5):\n",
    "    print(x, \" is being processed\")\n",
    "    if x == 20:\n",
    "        print(\"Breaking away..\")\n",
    "        break"
   ]
  },
  {
   "cell_type": "code",
   "execution_count": 26,
   "id": "4a459ac7-967f-4d18-82f6-c117a814079a",
   "metadata": {},
   "outputs": [
    {
     "name": "stdout",
     "output_type": "stream",
     "text": [
      "5  is being processed\n",
      "10  is being processed\n",
      "15  is being processed\n",
      "Continue to the top of the loop\n",
      "25  is being processed\n",
      "30  is being processed\n"
     ]
    }
   ],
   "source": [
    "# Example of 'continuing'into a loop\n",
    "for x in range(5,31,5):\n",
    "    if x == 20:\n",
    "        print(\"Continue to the top of the loop\")\n",
    "        continue\n",
    "    print(x, \" is being processed\")"
   ]
  },
  {
   "cell_type": "code",
   "execution_count": 27,
   "id": "9c5e0241-9594-4eae-8120-c9e3e4f5d640",
   "metadata": {},
   "outputs": [
    {
     "name": "stdout",
     "output_type": "stream",
     "text": [
      "5  is being processed\n",
      "10  is being processed\n",
      "15  is being processed\n",
      "Continue to the top of the loop\n",
      "20  is being processed\n",
      "25  is being processed\n",
      "30  is being processed\n"
     ]
    }
   ],
   "source": [
    "# Example of 'pass'in a loop\n",
    "for x in range(5,31,5):\n",
    "    if x == 20:\n",
    "        print(\"Continue to the top of the loop\")\n",
    "        pass\n",
    "    print(x, \" is being processed\")"
   ]
  },
  {
   "cell_type": "code",
   "execution_count": null,
   "id": "bbd7039e-b3ce-4eb2-a658-7567c22095c8",
   "metadata": {},
   "outputs": [],
   "source": []
  }
 ],
 "metadata": {
  "kernelspec": {
   "display_name": "Python 3 (ipykernel)",
   "language": "python",
   "name": "python3"
  },
  "language_info": {
   "codemirror_mode": {
    "name": "ipython",
    "version": 3
   },
   "file_extension": ".py",
   "mimetype": "text/x-python",
   "name": "python",
   "nbconvert_exporter": "python",
   "pygments_lexer": "ipython3",
   "version": "3.12.3"
  }
 },
 "nbformat": 4,
 "nbformat_minor": 5
}
