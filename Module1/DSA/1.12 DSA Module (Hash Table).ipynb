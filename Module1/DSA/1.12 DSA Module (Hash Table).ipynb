{
 "cells": [
  {
   "cell_type": "markdown",
   "metadata": {
    "id": "LxxyaXQrlOES"
   },
   "source": [
    "##  Hash Table — DSA Theory\n",
    "\n",
    "A **Hash Table** is a data structure that stores key-value pairs using a **hashing function** to compute an index into an array of buckets or slots.  \n",
    "This allows for average-case **O(1)** time complexity for:\n",
    "- **Insertions**\n",
    "- **Deletions**\n",
    "- **Lookups**\n",
    "\n",
    "---\n",
    "\n",
    "##  Characteristics:\n",
    "- **Keys are hashed** to an index.\n",
    "- **Collisions are handled** via chaining (linked lists) or open addressing (linear probing, quadratic probing, double hashing).\n",
    "- Supports fast access for dynamic data.\n",
    "\n",
    "---\n",
    "\n",
    "##  Use Cases:\n",
    "- Caching\n",
    "- Dictionaries/Maps\n",
    "- Symbol Tables\n",
    "- Counting frequencies\n",
    "- Hash-based Indexing (like in ML: vectorizers, token counts)\n",
    "\n",
    "---\n",
    "\n",
    "##  Common Operations:\n",
    "| Function          | Description                          |\n",
    "|:-----------------|:-------------------------------------|\n",
    "| `insert(key, value)` | Insert a key-value pair              |\n",
    "| `get(key)`         | Retrieve value for a given key       |\n",
    "| `delete(key)`      | Delete a key-value pair              |\n",
    "| `contains(key)`    | Check if a key exists                |\n",
    "| `display()`        | Print the entire hash table          |\n"
   ]
  },
  {
   "cell_type": "markdown",
   "metadata": {
    "id": "i2wCt6Psl5Nz"
   },
   "source": [
    "## Hash Table From Scratch (Chaining Method)"
   ]
  },
  {
   "cell_type": "code",
   "execution_count": null,
   "metadata": {
    "id": "xSepqzBUmKln"
   },
   "outputs": [],
   "source": [
    "class HashTable:\n",
    "    def __init__(self, size=10):\n",
    "        self.size = size\n",
    "        self.table = [[] for _ in range(size)]\n",
    "\n",
    "    # Hash function\n",
    "    def _hash(self, key):\n",
    "        return hash(key) % self.size\n",
    "\n",
    "    # Insert key-value pair\n",
    "    def insert(self, key, value):\n",
    "        idx = self._hash(key)\n",
    "        for pair in self.table[idx]:\n",
    "            if pair[0] == key:\n",
    "                pair[1] = value\n",
    "                return\n",
    "        self.table[idx].append([key, value])\n",
    "\n",
    "    # Get value by key\n",
    "    def get(self, key):\n",
    "        idx = self._hash(key)\n",
    "        for pair in self.table[idx]:\n",
    "            if pair[0] == key:\n",
    "                return pair[1]\n",
    "        return None\n",
    "\n",
    "    # Delete key-value pair\n",
    "    def delete(self, key):\n",
    "        idx = self._hash(key)\n",
    "        for i, pair in enumerate(self.table[idx]):\n",
    "            if pair[0] == key:\n",
    "                del self.table[idx][i]\n",
    "                return True\n",
    "        return False\n",
    "\n",
    "    # Check if key exists\n",
    "    def contains(self, key):\n",
    "        idx = self._hash(key)\n",
    "        for pair in self.table[idx]:\n",
    "            if pair[0] == key:\n",
    "                return True\n",
    "        return False\n",
    "\n",
    "    # Display full table\n",
    "    def display(self):\n",
    "        for i, bucket in enumerate(self.table):\n",
    "            print(f\"Bucket {i}: {bucket}\")\n",
    "\n",
    "# Example Usage\n",
    "ht = HashTable()\n",
    "\n",
    "ht.insert(\"apple\", 50)\n",
    "ht.insert(\"banana\", 30)\n",
    "ht.insert(\"orange\", 20)\n",
    "\n",
    "print(\"Value for 'banana':\", ht.get(\"banana\"))\n",
    "\n",
    "print(\"\\nTable before deleting 'apple':\")\n",
    "ht.display()\n",
    "\n",
    "ht.delete(\"apple\")\n",
    "\n",
    "print(\"\\nTable after deleting 'apple':\")\n",
    "ht.display()\n",
    "\n",
    "print(\"\\nContains 'orange'?\", ht.contains(\"orange\"))\n"
   ]
  },
  {
   "cell_type": "markdown",
   "metadata": {
    "id": "RPzp8nLkqGdN"
   },
   "source": [
    "DSA Problems"
   ]
  },
  {
   "cell_type": "markdown",
   "metadata": {
    "id": "KJ9Y_flFqSEl"
   },
   "source": [
    "## 1. Find Non-Repeating Character in a String\n",
    "\n",
    "Problem:\n",
    "Given a string, find the first character that does not repeat."
   ]
  },
  {
   "cell_type": "code",
   "execution_count": null,
   "metadata": {
    "id": "9J23i5XUqTQ7"
   },
   "outputs": [],
   "source": [
    "def first_non_repeating_char(s):\n",
    "    count = {}\n",
    "\n",
    "    for char in s:\n",
    "        count[char] = count.get(char, 0) + 1\n",
    "\n",
    "    for char in s:\n",
    "        if count[char] == 1:\n",
    "            return char\n",
    "    return None\n",
    "\n",
    "# Example\n",
    "print(\"First Non-Repeating:\", first_non_repeating_char(\"aabbcdde\"))\n"
   ]
  },
  {
   "cell_type": "markdown",
   "metadata": {
    "id": "3cxAwvchqxV3"
   },
   "source": [
    "## Check if Two Arrays are Equal (Element-wise, ignoring order)\n",
    "\n",
    "Problem:\n",
    "Check if two arrays have exactly the same elements with the same frequency."
   ]
  },
  {
   "cell_type": "code",
   "execution_count": null,
   "metadata": {
    "id": "G5yrsLfTqzMT"
   },
   "outputs": [],
   "source": [
    "2. def are_arrays_equal(arr1, arr2):\n",
    "    if len(arr1) != len(arr2):\n",
    "        return False\n",
    "\n",
    "    count1, count2 = {}, {}\n",
    "\n",
    "    for num in arr1:\n",
    "        count1[num] = count1.get(num, 0) + 1\n",
    "\n",
    "    for num in arr2:\n",
    "        count2[num] = count2.get(num, 0) + 1\n",
    "\n",
    "    return count1 == count2\n",
    "\n",
    "# Example\n",
    "print(\"Arrays Equal:\", are_arrays_equal([1,2,3,4,4], [4,3,2,4,1]))\n"
   ]
  },
  {
   "cell_type": "markdown",
   "metadata": {
    "id": "PAOPTv5isLp-"
   },
   "source": [
    "## 3. Count Number of Pairs with Given Sum\n",
    "\n",
    "Problem:\n",
    "Given an array and a value, count all pairs of elements whose sum is equal to that value."
   ]
  },
  {
   "cell_type": "code",
   "execution_count": null,
   "metadata": {
    "executionInfo": {
     "elapsed": 10,
     "status": "ok",
     "timestamp": 1751351710547,
     "user": {
      "displayName": "Kartik Patel",
      "userId": "14064721412265191955"
     },
     "user_tz": -330
    },
    "id": "Gj540QybsXAL"
   },
   "outputs": [],
   "source": [
    "def count_pairs_with_sum(arr, target):\n",
    "    count = {}\n",
    "    pairs = 0\n",
    "\n",
    "    for num in arr:\n",
    "        complement = target - num\n",
    "        if complement in count:\n",
    "            pairs += count[complement]\n",
    "        count[num] = count.get(num, 0) + 1\n",
    "\n",
    "    return pairs\n",
    "\n",
    "# Example\n",
    "print(\"Pairs with sum 5:\", count_pairs_with_sum([1, 5, 7, -1, 5], 6))\n"
   ]
  }
 ],
 "metadata": {
  "colab": {
   "authorship_tag": "ABX9TyPq7oMuo0Zopd6GWJmDMSfV",
   "provenance": []
  },
  "kernelspec": {
   "display_name": "Python 3 (ipykernel)",
   "language": "python",
   "name": "python3"
  },
  "language_info": {
   "codemirror_mode": {
    "name": "ipython",
    "version": 3
   },
   "file_extension": ".py",
   "mimetype": "text/x-python",
   "name": "python",
   "nbconvert_exporter": "python",
   "pygments_lexer": "ipython3",
   "version": "3.12.3"
  }
 },
 "nbformat": 4,
 "nbformat_minor": 4
}
