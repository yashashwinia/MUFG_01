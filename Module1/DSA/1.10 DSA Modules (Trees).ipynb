{
 "cells": [
  {
   "cell_type": "markdown",
   "metadata": {
    "id": "WTIi7GtRbEU7"
   },
   "source": [
    "##  Tree — DSA Theory\n",
    "\n",
    "A **Tree** is a hierarchical, non-linear data structure made up of nodes connected via edges.  \n",
    "It’s widely used to represent hierarchical relationships, like file systems, organization charts, or decision processes.\n",
    "\n",
    "---\n",
    "\n",
    "##  Characteristics:\n",
    "- **Root Node:** Topmost node (no parent)\n",
    "- **Parent-Child Relationship:** Each node can have multiple children but only one parent.\n",
    "- **Leaf Node:** Node with no children\n",
    "- **Internal Node:** Node with at least one child\n",
    "- **Edge:** Connection between two nodes\n",
    "- **Height:** Length of the longest path from root to a leaf\n",
    "- **Depth:** Length of the path from root to that node\n",
    "\n",
    "---\n",
    "\n",
    "##  Types of Trees:\n",
    "\n",
    "| Type                | Description                          |\n",
    "|:--------------------|:-------------------------------------|\n",
    "| **Binary Tree**       | Each node has ≤ 2 children.         |\n",
    "| **Binary Search Tree**| Left child < parent < right child   |\n",
    "| **Balanced Tree**     | Heights of left & right subtrees differ by ≤ 1 |\n",
    "| **Full Binary Tree**  | Every node has 0 or 2 children      |\n",
    "| **Complete Binary Tree** | All levels filled except last   |\n",
    "| **AVL Tree**          | Self-balancing BST                  |\n",
    "| **N-ary Tree**        | Each node can have ≤ N children     |\n",
    "\n",
    "---\n",
    "\n",
    "##  Applications in DSA & ML:\n",
    "- Expression parsing (Expression Tree)\n",
    "- Decision Trees (classification/regression)\n",
    "- Huffman Encoding\n",
    "- K-D Trees for KNN, clustering\n",
    "- Min/Max Heaps (priority queues)\n",
    "- Game trees (Minimax, Alpha-Beta pruning)\n",
    "\n",
    "## 📖 Comparison Table: Types of Trees\n",
    "\n",
    "| Tree Type               | Characteristics                                                                 | Max Children per Node | Balanced?       | Use Cases                                              |\n",
    "|:------------------------|:--------------------------------------------------------------------------------|:---------------------|:----------------|:--------------------------------------------------------|\n",
    "| **Binary Tree**           | Each node has ≤ 2 children                                                      | 2                     | Not necessarily | Basic hierarchical structures, expression trees        |\n",
    "| **Binary Search Tree (BST)**| Left child < parent < right child                                             | 2                     | Not necessarily | Fast search, insert, delete (if balanced)              |\n",
    "| **Full Binary Tree**      | Every node has either 0 or 2 children                                           | 2                     | Not necessarily | Specific structural problems, parsing expressions      |\n",
    "| **Complete Binary Tree**  | All levels completely filled except possibly the last, filled left to right     | 2                     | Not necessarily | Heaps, Priority Queues                                 |\n",
    "| **Perfect Binary Tree**   | All internal nodes have 2 children and all leaves at same level                 | 2                     | Yes             | Theoretical, tree height problems                      |\n",
    "| **Balanced Binary Tree**  | Heights of left and right subtrees differ by at most 1                          | 2                     | Yes             | Ensures optimal O(log n) operations                    |\n",
    "| **AVL Tree**              | Self-balancing BST (rotations on insert/delete to maintain balance)             | 2                     | Yes             | Dynamic sorted datasets with frequent operations        |\n",
    "| **Red-Black Tree**        | Self-balancing BST with coloring rules to ensure balancing                      | 2                     | Yes             | OS scheduling, STL maps & sets, database indexes       |\n",
    "| **N-ary Tree**            | Each node can have ≤ N children                                                 | N                     | Not necessarily | General hierarchical data like JSON/XML parsers         |\n",
    "| **Ternary Tree**          | Each node has ≤ 3 children                                                      | 3                     | Not necessarily | Decision trees, expression parsing                     |\n",
    "| **Heap (Min/Max)**        | Complete binary tree maintaining heap property (min or max at root)             | 2                     | Yes (Complete)  | Priority Queues, job scheduling, Dijkstra's Algorithm  |\n",
    "| **Segment Tree**          | Binary tree used for storing intervals/segments                                 | 2                     | Yes             | Range query problems, dynamic array operations         |\n",
    "| **K-D Tree**              | Multidimensional binary search tree                                             | 2                     | Not necessarily | KNN, spatial indexing in ML and computer graphics      |\n",
    "\n",
    "\n"
   ]
  },
  {
   "cell_type": "markdown",
   "metadata": {
    "id": "95T8V20gcTaP"
   },
   "source": [
    "## Binary Tree"
   ]
  },
  {
   "cell_type": "code",
   "execution_count": null,
   "metadata": {
    "colab": {
     "base_uri": "https://localhost:8080/"
    },
    "executionInfo": {
     "elapsed": 12,
     "status": "ok",
     "timestamp": 1751813519386,
     "user": {
      "displayName": "Nayna Sagar Dahatonde",
      "userId": "08351810259517213934"
     },
     "user_tz": -330
    },
    "id": "IwucQgZHaYqT",
    "outputId": "f8a6df44-9a2f-4fd6-b558-b9aeb35186cc"
   },
   "outputs": [
    {
     "name": "stdout",
     "output_type": "stream",
     "text": [
      "40 20 10 30 "
     ]
    }
   ],
   "source": [
    "class Node:\n",
    "    def __init__(self, data):\n",
    "        self.data = data\n",
    "        self.left = None\n",
    "        self.right = None\n",
    "\n",
    "def inorder(root):\n",
    "    if root:\n",
    "        inorder(root.left)\n",
    "        print(root.data, end=\" \")\n",
    "        inorder(root.right)\n",
    "\n",
    "root = Node(10)\n",
    "root.left = Node(20)\n",
    "root.right = Node(30)\n",
    "root.left.left = Node(40)\n",
    "\n",
    "inorder(root)\n"
   ]
  },
  {
   "cell_type": "markdown",
   "metadata": {
    "id": "1nRmflmmc_TD"
   },
   "source": [
    "## Binary Search Tree (BST)"
   ]
  },
  {
   "cell_type": "code",
   "execution_count": null,
   "metadata": {
    "colab": {
     "base_uri": "https://localhost:8080/"
    },
    "executionInfo": {
     "elapsed": 12,
     "status": "ok",
     "timestamp": 1751813525436,
     "user": {
      "displayName": "Nayna Sagar Dahatonde",
      "userId": "08351810259517213934"
     },
     "user_tz": -330
    },
    "id": "4bKe5BIydGdv",
    "outputId": "3875f030-eb88-4316-fae7-8e3287cf4756"
   },
   "outputs": [
    {
     "name": "stdout",
     "output_type": "stream",
     "text": [
      "20 30 40 50 60 70 80 "
     ]
    }
   ],
   "source": [
    "class BSTNode:\n",
    "    def __init__(self, data):\n",
    "        self.data = data\n",
    "        self.left = None\n",
    "        self.right = None\n",
    "\n",
    "def insert(root, key):\n",
    "    if root is None:\n",
    "        return BSTNode(key)\n",
    "    if key < root.data:\n",
    "        root.left = insert(root.left, key)\n",
    "    else:\n",
    "        root.right = insert(root.right, key)\n",
    "    return root\n",
    "\n",
    "def inorder(root):\n",
    "    if root:\n",
    "        inorder(root.left)\n",
    "        print(root.data, end=\" \")\n",
    "        inorder(root.right)\n",
    "\n",
    "root = None\n",
    "for val in [50, 30, 70, 20, 40, 60, 80]:\n",
    "    root = insert(root, val)\n",
    "\n",
    "inorder(root)\n"
   ]
  },
  {
   "cell_type": "markdown",
   "metadata": {
    "id": "uYgNESEidsKq"
   },
   "source": [
    "## AVL Tree (Self-Balancing BST)"
   ]
  },
  {
   "cell_type": "code",
   "execution_count": null,
   "metadata": {
    "colab": {
     "base_uri": "https://localhost:8080/"
    },
    "executionInfo": {
     "elapsed": 8,
     "status": "ok",
     "timestamp": 1751813530349,
     "user": {
      "displayName": "Nayna Sagar Dahatonde",
      "userId": "08351810259517213934"
     },
     "user_tz": -330
    },
    "id": "jFcRlz3tdx1i",
    "outputId": "141190be-1247-4385-91dc-4d1b90aac50e"
   },
   "outputs": [
    {
     "name": "stdout",
     "output_type": "stream",
     "text": [
      "10 20 25 30 40 50 "
     ]
    }
   ],
   "source": [
    "class AVLNode:\n",
    "    def __init__(self, key):\n",
    "        self.data = key\n",
    "        self.left = None\n",
    "        self.right = None\n",
    "        self.height = 1\n",
    "\n",
    "def get_height(node):\n",
    "    if not node:\n",
    "        return 0\n",
    "    return node.height\n",
    "\n",
    "def get_balance(node):\n",
    "    if not node:\n",
    "        return 0\n",
    "    return get_height(node.left) - get_height(node.right)\n",
    "\n",
    "def right_rotate(z):\n",
    "    y = z.left\n",
    "    T3 = y.right\n",
    "    y.right = z\n",
    "    z.left = T3\n",
    "    z.height = 1 + max(get_height(z.left), get_height(z.right))\n",
    "    y.height = 1 + max(get_height(y.left), get_height(y.right))\n",
    "    return y\n",
    "\n",
    "def left_rotate(z):\n",
    "    y = z.right\n",
    "    T2 = y.left\n",
    "    y.left = z\n",
    "    z.right = T2\n",
    "    z.height = 1 + max(get_height(z.left), get_height(z.right))\n",
    "    y.height = 1 + max(get_height(y.left), get_height(y.right))\n",
    "    return y\n",
    "\n",
    "def insert(root, key):\n",
    "    if not root:\n",
    "        return AVLNode(key)\n",
    "    elif key < root.data:\n",
    "        root.left = insert(root.left, key)\n",
    "    else:\n",
    "        root.right = insert(root.right, key)\n",
    "    root.height = 1 + max(get_height(root.left), get_height(root.right))\n",
    "    balance = get_balance(root)\n",
    "    if balance > 1 and key < root.left.data:\n",
    "        return right_rotate(root)\n",
    "    if balance < -1 and key > root.right.data:\n",
    "        return left_rotate(root)\n",
    "    if balance > 1 and key > root.left.data:\n",
    "        root.left = left_rotate(root.left)\n",
    "        return right_rotate(root)\n",
    "    if balance < -1 and key < root.right.data:\n",
    "        root.right = right_rotate(root.right)\n",
    "        return left_rotate(root)\n",
    "    return root\n",
    "\n",
    "def inorder(root):\n",
    "    if root:\n",
    "        inorder(root.left)\n",
    "        print(root.data, end=\" \")\n",
    "        inorder(root.right)\n",
    "\n",
    "root = None\n",
    "for val in [30, 20, 40, 10, 25, 50]:\n",
    "    root = insert(root, val)\n",
    "\n",
    "inorder(root)\n"
   ]
  },
  {
   "cell_type": "markdown",
   "metadata": {
    "id": "p1l-uE0Rd7jK"
   },
   "source": [
    "## DSA problems"
   ]
  },
  {
   "cell_type": "markdown",
   "metadata": {
    "id": "d9toHXR2eCar"
   },
   "source": [
    "## Find Maximum Element in a Binary Tree"
   ]
  },
  {
   "cell_type": "code",
   "execution_count": null,
   "metadata": {
    "colab": {
     "base_uri": "https://localhost:8080/"
    },
    "executionInfo": {
     "elapsed": 13,
     "status": "ok",
     "timestamp": 1751813536091,
     "user": {
      "displayName": "Nayna Sagar Dahatonde",
      "userId": "08351810259517213934"
     },
     "user_tz": -330
    },
    "id": "_im_K52Ed-ss",
    "outputId": "93b7e450-17d7-420a-fd13-c7b939663dd5"
   },
   "outputs": [
    {
     "name": "stdout",
     "output_type": "stream",
     "text": [
      "Maximum Element: 30\n"
     ]
    }
   ],
   "source": [
    "class Node:\n",
    "    def __init__(self, data):\n",
    "        self.data = data\n",
    "        self.left = None\n",
    "        self.right = None\n",
    "\n",
    "def find_max(root):\n",
    "    if not root:\n",
    "        return float('-inf')\n",
    "    left_max = find_max(root.left)\n",
    "    right_max = find_max(root.right)\n",
    "    return max(root.data, left_max, right_max)\n",
    "\n",
    "root = Node(10)\n",
    "root.left = Node(20)\n",
    "root.right = Node(5)\n",
    "root.left.left = Node(30)\n",
    "\n",
    "print(\"Maximum Element:\", find_max(root))\n"
   ]
  },
  {
   "cell_type": "markdown",
   "metadata": {
    "id": "WU3_8DF8egev"
   },
   "source": [
    "## 2. Count Number of Leaf Nodes in a Binary Tree"
   ]
  },
  {
   "cell_type": "code",
   "execution_count": null,
   "metadata": {
    "colab": {
     "base_uri": "https://localhost:8080/"
    },
    "executionInfo": {
     "elapsed": 9,
     "status": "ok",
     "timestamp": 1751813540897,
     "user": {
      "displayName": "Nayna Sagar Dahatonde",
      "userId": "08351810259517213934"
     },
     "user_tz": -330
    },
    "id": "o7c1G8Q7ekGF",
    "outputId": "134c7659-a809-4c4a-faac-7499d391abed"
   },
   "outputs": [
    {
     "name": "stdout",
     "output_type": "stream",
     "text": [
      "Leaf Nodes Count: 3\n"
     ]
    }
   ],
   "source": [
    "def count_leaves(root):\n",
    "    if not root:\n",
    "        return 0\n",
    "    if not root.left and not root.right:\n",
    "        return 1\n",
    "    return count_leaves(root.left) + count_leaves(root.right)\n",
    "\n",
    "root = Node(10)\n",
    "root.left = Node(20)\n",
    "root.right = Node(30)\n",
    "root.left.left = Node(40)\n",
    "root.left.right = Node(50)\n",
    "\n",
    "print(\"Leaf Nodes Count:\", count_leaves(root))\n"
   ]
  },
  {
   "cell_type": "markdown",
   "metadata": {
    "id": "pRUxyM8aenla"
   },
   "source": [
    "## 3. Print All Root-to-Leaf Paths"
   ]
  },
  {
   "cell_type": "code",
   "execution_count": null,
   "metadata": {
    "colab": {
     "base_uri": "https://localhost:8080/"
    },
    "executionInfo": {
     "elapsed": 16,
     "status": "ok",
     "timestamp": 1751813544430,
     "user": {
      "displayName": "Nayna Sagar Dahatonde",
      "userId": "08351810259517213934"
     },
     "user_tz": -330
    },
    "id": "zNMSKq7veo4I",
    "outputId": "ea25915a-e8f2-4f1d-8595-8b46a6a530e0"
   },
   "outputs": [
    {
     "name": "stdout",
     "output_type": "stream",
     "text": [
      "Root to Leaf Paths:\n",
      "1 -> 2 -> 4\n",
      "1 -> 2 -> 5\n",
      "1 -> 3\n"
     ]
    }
   ],
   "source": [
    "def print_paths(root, path=[]):\n",
    "    if not root:\n",
    "        return\n",
    "    path.append(root.data)\n",
    "    if not root.left and not root.right:\n",
    "        print(\" -> \".join(map(str, path)))\n",
    "    else:\n",
    "        print_paths(root.left, path)\n",
    "        print_paths(root.right, path)\n",
    "    path.pop()\n",
    "\n",
    "root = Node(1)\n",
    "root.left = Node(2)\n",
    "root.right = Node(3)\n",
    "root.left.left = Node(4)\n",
    "root.left.right = Node(5)\n",
    "\n",
    "print(\"Root to Leaf Paths:\")\n",
    "print_paths(root)\n"
   ]
  }
 ],
 "metadata": {
  "colab": {
   "provenance": []
  },
  "kernelspec": {
   "display_name": "Python 3 (ipykernel)",
   "language": "python",
   "name": "python3"
  },
  "language_info": {
   "codemirror_mode": {
    "name": "ipython",
    "version": 3
   },
   "file_extension": ".py",
   "mimetype": "text/x-python",
   "name": "python",
   "nbconvert_exporter": "python",
   "pygments_lexer": "ipython3",
   "version": "3.12.3"
  }
 },
 "nbformat": 4,
 "nbformat_minor": 4
}
