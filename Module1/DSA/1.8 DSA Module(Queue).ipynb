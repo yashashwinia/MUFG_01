{
 "cells": [
  {
   "cell_type": "markdown",
   "metadata": {
    "id": "309JlycrLx1H"
   },
   "source": [
    "## 📖 Python Queue — DSA Theory 📚\n",
    "\n",
    "A **Queue** is a linear data structure that follows the **First In First Out (FIFO)** principle.  \n",
    "This means the element added earliest is removed first.\n",
    "\n",
    "---\n",
    "\n",
    "### 📌 Characteristics:\n",
    "- **FIFO Order:** First inserted element is removed first.\n",
    "- Operations happen at **both ends**:  \n",
    "  - **Enqueue (add)** at the rear (tail)\n",
    "  - **Dequeue (remove)** from the front (head)\n",
    "- Can be implemented using **list**, **deque (from collections)**, or a **custom class**.\n",
    "\n",
    "---\n",
    "\n",
    "### 📌 Common Queue Operations:\n",
    "\n",
    "| Operation      | Description                                      |\n",
    "|:---------------|:------------------------------------------------|\n",
    "| `enqueue()`     | Add an element to the rear of the queue          |\n",
    "| `dequeue()`     | Remove the front element from the queue          |\n",
    "| `peek()` / `front()` | View the front element without removing it |\n",
    "| `isEmpty()`     | Check if queue is empty                          |\n",
    "| `size()`        | Return number of elements in queue               |\n",
    "\n",
    "\n",
    "---\n",
    "\n",
    "### 📌 Real-Life Examples:\n",
    "- Call Center Waiting Queue  \n",
    "- Ticket Counter Line  \n",
    "- Print Spooling Queue  \n",
    "- CPU Process Scheduling  \n"
   ]
  },
  {
   "cell_type": "markdown",
   "metadata": {
    "id": "hjzNmDYBL6_L"
   },
   "source": [
    "# Queue from Scratch"
   ]
  },
  {
   "cell_type": "code",
   "execution_count": 1,
   "metadata": {
    "colab": {
     "base_uri": "https://localhost:8080/"
    },
    "executionInfo": {
     "elapsed": 48,
     "status": "ok",
     "timestamp": 1754972330383,
     "user": {
      "displayName": "Kartik Rajesh Patel",
      "userId": "13704250535376199674"
     },
     "user_tz": -330
    },
    "id": "3h0CAKJXMHJE",
    "outputId": "15b89d2e-b582-45b7-f235-0fdd10bf2fd9"
   },
   "outputs": [
    {
     "name": "stdout",
     "output_type": "stream",
     "text": [
      "Initial queue: []\n",
      "Queue after enqueues: [10, 20, 30]\n",
      "Front element (peek): 10\n",
      "Removed element (dequeue): 10\n",
      "Queue after dequeue: [20, 30]\n",
      "Is queue empty? False\n",
      "Queue size: 2\n"
     ]
    }
   ],
   "source": [
    "class Queue:\n",
    "    def __init__(self):\n",
    "        self.queue = []\n",
    "\n",
    "    # Enqueue operation\n",
    "    def enqueue(self, item):\n",
    "        self.queue += [item]\n",
    "\n",
    "    # Dequeue operation\n",
    "    def dequeue(self):\n",
    "        if not self.isEmpty():\n",
    "            front_element = self.queue[0]\n",
    "            self.queue = self.queue[1:]  # remove first element manually\n",
    "            return front_element\n",
    "        else:\n",
    "            return \"Queue Underflow\"\n",
    "\n",
    "    # Peek operation\n",
    "    def peek(self):\n",
    "        if not self.isEmpty():\n",
    "            return self.queue[0]\n",
    "        else:\n",
    "            return \"Queue is empty\"\n",
    "\n",
    "    # isEmpty operation\n",
    "    def isEmpty(self):\n",
    "        return len(self.queue) == 0\n",
    "\n",
    "    # size operation\n",
    "    def size(self):\n",
    "        return len(self.queue)\n",
    "\n",
    "    # display queue\n",
    "    def display(self):\n",
    "        return self.queue\n",
    "\n",
    "\n",
    "# Example usage:\n",
    "q = Queue()\n",
    "print(\"Initial queue:\", q.display())\n",
    "\n",
    "q.enqueue(10)\n",
    "q.enqueue(20)\n",
    "q.enqueue(30)\n",
    "print(\"Queue after enqueues:\", q.display())\n",
    "\n",
    "print(\"Front element (peek):\", q.peek())\n",
    "\n",
    "print(\"Removed element (dequeue):\", q.dequeue())\n",
    "print(\"Queue after dequeue:\", q.display())\n",
    "\n",
    "print(\"Is queue empty?\", q.isEmpty())\n",
    "print(\"Queue size:\", q.size())\n"
   ]
  },
  {
   "cell_type": "markdown",
   "metadata": {
    "id": "3BJJ1OU0MOOK"
   },
   "source": [
    "## Declaring Queue using Python List"
   ]
  },
  {
   "cell_type": "code",
   "execution_count": null,
   "metadata": {
    "id": "bq7wM_G0MTZu"
   },
   "outputs": [],
   "source": [
    "queue = []\n",
    "print(\"Initial queue:\", queue)\n"
   ]
  },
  {
   "cell_type": "markdown",
   "metadata": {
    "id": "tjXaPPElMx4L"
   },
   "source": [
    "## Functions in Queue"
   ]
  },
  {
   "cell_type": "markdown",
   "metadata": {
    "id": "x2GBPvhkM0l4"
   },
   "source": [
    "## 1. enqueue() — Add element to rear"
   ]
  },
  {
   "cell_type": "code",
   "execution_count": null,
   "metadata": {
    "colab": {
     "base_uri": "https://localhost:8080/"
    },
    "executionInfo": {
     "elapsed": 40,
     "status": "ok",
     "timestamp": 1751385537941,
     "user": {
      "displayName": "Nayna Sagar Dahatonde",
      "userId": "08351810259517213934"
     },
     "user_tz": -330
    },
    "id": "qHowYmf_M2jg",
    "outputId": "ba40c5ee-ebde-4e58-ea1e-042476385460"
   },
   "outputs": [
    {
     "name": "stdout",
     "output_type": "stream",
     "text": [
      "Queue after enqueues: [10, 20, 30]\n"
     ]
    }
   ],
   "source": [
    "queue = []\n",
    "queue.append(10)\n",
    "queue.append(20)\n",
    "queue.append(30)\n",
    "print(\"Queue after enqueues:\", queue)\n"
   ]
  },
  {
   "cell_type": "markdown",
   "metadata": {
    "id": "rzCjGHfj1hwv"
   },
   "source": [
    "## 2.  dequeue() — Remove front element"
   ]
  },
  {
   "cell_type": "code",
   "execution_count": null,
   "metadata": {
    "colab": {
     "base_uri": "https://localhost:8080/"
    },
    "executionInfo": {
     "elapsed": 19,
     "status": "ok",
     "timestamp": 1751385546921,
     "user": {
      "displayName": "Nayna Sagar Dahatonde",
      "userId": "08351810259517213934"
     },
     "user_tz": -330
    },
    "id": "QjD53ezF1l35",
    "outputId": "03d1bdb4-3657-406f-a739-42bc808d1631"
   },
   "outputs": [
    {
     "name": "stdout",
     "output_type": "stream",
     "text": [
      "Removed element: 10\n",
      "Queue after dequeue: [20, 30]\n"
     ]
    }
   ],
   "source": [
    "queue = [10, 20, 30]\n",
    "removed = queue.pop(0)\n",
    "print(\"Removed element:\", removed)\n",
    "print(\"Queue after dequeue:\", queue)\n"
   ]
  },
  {
   "cell_type": "markdown",
   "metadata": {
    "id": "ynYQJ-LM1okV"
   },
   "source": [
    "## 3. peek() — View front element"
   ]
  },
  {
   "cell_type": "code",
   "execution_count": null,
   "metadata": {
    "id": "y8mwYPKr1uNJ"
   },
   "outputs": [],
   "source": [
    "queue = [10, 20, 30]\n",
    "print(\"Front element:\", queue[0])\n"
   ]
  },
  {
   "cell_type": "markdown",
   "metadata": {
    "id": "_xxcm93s1y_a"
   },
   "source": [
    "## 4. isEmpty() — Check if queue is empty"
   ]
  },
  {
   "cell_type": "code",
   "execution_count": 2,
   "metadata": {
    "colab": {
     "base_uri": "https://localhost:8080/"
    },
    "executionInfo": {
     "elapsed": 8,
     "status": "ok",
     "timestamp": 1754974029713,
     "user": {
      "displayName": "Kartik Rajesh Patel",
      "userId": "13704250535376199674"
     },
     "user_tz": -330
    },
    "id": "frq0rMKu12RW",
    "outputId": "f92b4ef5-48bf-415c-b452-aac59038304f"
   },
   "outputs": [
    {
     "name": "stdout",
     "output_type": "stream",
     "text": [
      "Is queue empty? True\n"
     ]
    }
   ],
   "source": [
    "queue = []\n",
    "print(\"Is queue empty?\", len(queue) == 0)\n"
   ]
  },
  {
   "cell_type": "markdown",
   "metadata": {
    "id": "PT5sjTxE15Lm"
   },
   "source": [
    "## 5. size() — Number of elements in queue"
   ]
  },
  {
   "cell_type": "code",
   "execution_count": null,
   "metadata": {
    "id": "zMX3Pq3T1-O4"
   },
   "outputs": [],
   "source": [
    "queue = [10, 20, 30]\n",
    "print(\"Size of queue:\", len(queue))\n"
   ]
  },
  {
   "cell_type": "markdown",
   "metadata": {
    "id": "XbJ4Z3Bw2-Xg"
   },
   "source": [
    "# DSA Questions"
   ]
  },
  {
   "cell_type": "markdown",
   "metadata": {
    "id": "TtUiXrx63Bjb"
   },
   "source": [
    "## 1. Implement a Queue Using Two Stacks"
   ]
  },
  {
   "cell_type": "code",
   "execution_count": 3,
   "metadata": {
    "colab": {
     "base_uri": "https://localhost:8080/"
    },
    "executionInfo": {
     "elapsed": 37,
     "status": "ok",
     "timestamp": 1754974310833,
     "user": {
      "displayName": "Kartik Rajesh Patel",
      "userId": "13704250535376199674"
     },
     "user_tz": -330
    },
    "id": "SbmV6LBX3N-y",
    "outputId": "b49ec9b8-598f-45f3-f891-dea97de9002f"
   },
   "outputs": [
    {
     "name": "stdout",
     "output_type": "stream",
     "text": [
      "10\n",
      "20\n"
     ]
    }
   ],
   "source": [
    "class QueueUsingStacks:\n",
    "    def __init__(self):\n",
    "        self.stack1 = []\n",
    "        self.stack2 = []\n",
    "\n",
    "    def enqueue(self, item):\n",
    "        self.stack1.append(item)\n",
    "\n",
    "    def dequeue(self):\n",
    "        if not self.stack2:\n",
    "            while self.stack1:\n",
    "                self.stack2.append(self.stack1.pop())\n",
    "        if not self.stack2:\n",
    "            return \"Queue Underflow\"\n",
    "        return self.stack2.pop()\n",
    "\n",
    "# Example\n",
    "q = QueueUsingStacks()\n",
    "q.enqueue(10)\n",
    "q.enqueue(20)\n",
    "q.enqueue(30)\n",
    "print(q.dequeue())  # 10\n",
    "print(q.dequeue())  # 20\n"
   ]
  },
  {
   "cell_type": "markdown",
   "metadata": {
    "id": "UX5O56zF3QKe"
   },
   "source": [
    "## 2. Generate Binary Numbers from 1 to N"
   ]
  },
  {
   "cell_type": "code",
   "execution_count": 4,
   "metadata": {
    "colab": {
     "base_uri": "https://localhost:8080/"
    },
    "executionInfo": {
     "elapsed": 14,
     "status": "ok",
     "timestamp": 1754974449454,
     "user": {
      "displayName": "Kartik Rajesh Patel",
      "userId": "13704250535376199674"
     },
     "user_tz": -330
    },
    "id": "_b77vPbK3XMG",
    "outputId": "b383be7b-71c0-46fb-e116-049038eeb54c"
   },
   "outputs": [
    {
     "name": "stdout",
     "output_type": "stream",
     "text": [
      "['1', '10', '11', '100', '101']\n"
     ]
    }
   ],
   "source": [
    "from collections import deque\n",
    "\n",
    "def generateBinaryNumbers(N):\n",
    "    result = []\n",
    "    queue = deque()\n",
    "    queue.append(\"1\")\n",
    "\n",
    "    for _ in range(N):\n",
    "        front = queue.popleft()\n",
    "        result.append(front)\n",
    "        queue.append(front + \"0\")\n",
    "        queue.append(front + \"1\")\n",
    "\n",
    "    return result\n",
    "\n",
    "# Example\n",
    "print(generateBinaryNumbers(5))  # ['1', '10', '11', '100', '101']\n"
   ]
  },
  {
   "cell_type": "markdown",
   "metadata": {
    "id": "GXG3PAgv3ZnI"
   },
   "source": [
    "## 3. First Non-Repeating Character in a Stream"
   ]
  },
  {
   "cell_type": "code",
   "execution_count": null,
   "metadata": {
    "id": "DPDy2xkU3dWg"
   },
   "outputs": [],
   "source": [
    "from collections import deque\n",
    "\n",
    "def firstNonRepeating(stream):\n",
    "    freq = {}\n",
    "    queue = deque()\n",
    "    result = []\n",
    "\n",
    "    for ch in stream:\n",
    "        freq[ch] = freq.get(ch, 0) + 1\n",
    "        queue.append(ch)\n",
    "\n",
    "        while queue and freq[queue[0]] > 1:\n",
    "            queue.popleft()\n",
    "\n",
    "        result.append(queue[0] if queue else '-1')\n",
    "\n",
    "    return result\n",
    "\n",
    "# Example\n",
    "stream = \"aabc\"\n",
    "print(firstNonRepeating(stream))  # ['a', '-1', 'b', 'b']\n"
   ]
  },
  {
   "cell_type": "markdown",
   "metadata": {
    "id": "r2OJ8Gn83-06"
   },
   "source": [
    "## 4.  Reverse a Queue\n"
   ]
  },
  {
   "cell_type": "code",
   "execution_count": null,
   "metadata": {
    "id": "4M4V_Har4Af7"
   },
   "outputs": [],
   "source": [
    "from collections import deque\n",
    "\n",
    "def reverseQueue(queue):\n",
    "    if not queue:\n",
    "        return\n",
    "    front = queue.popleft()\n",
    "    reverseQueue(queue)\n",
    "    queue.append(front)\n",
    "\n",
    "# Example\n",
    "q = deque([10, 20, 30, 40])\n",
    "reverseQueue(q)\n",
    "print(list(q))  # [40, 30, 20, 10]\n"
   ]
  }
 ],
 "metadata": {
  "colab": {
   "provenance": []
  },
  "kernelspec": {
   "display_name": "Python 3 (ipykernel)",
   "language": "python",
   "name": "python3"
  },
  "language_info": {
   "codemirror_mode": {
    "name": "ipython",
    "version": 3
   },
   "file_extension": ".py",
   "mimetype": "text/x-python",
   "name": "python",
   "nbconvert_exporter": "python",
   "pygments_lexer": "ipython3",
   "version": "3.12.3"
  }
 },
 "nbformat": 4,
 "nbformat_minor": 4
}
