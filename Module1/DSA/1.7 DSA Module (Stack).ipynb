{
 "cells": [
  {
   "cell_type": "markdown",
   "metadata": {
    "id": "qXEboFHIeZUU"
   },
   "source": [
    "##  Python Stack — DSA Theory\n",
    "\n",
    "A **Stack** is a linear data structure that follows the **Last In First Out (LIFO)** principle.  \n",
    "This means the last element added is the first one to be removed.\n",
    "\n",
    "---\n",
    "\n",
    "###  Characteristics:\n",
    "- **LIFO Order:** Last inserted element is removed first.\n",
    "- Can be implemented using **list**, **deque (from collections)**, or **custom class**.\n",
    "- Operations performed at **one end only (top of stack)**.\n",
    "\n",
    "---\n",
    "\n",
    "###  Common Stack Operations:\n",
    "\n",
    "| Operation    | Description                                     |\n",
    "|:------------|:------------------------------------------------|\n",
    "| `push()`     | Add an element to the top of the stack           |\n",
    "| `pop()`      | Remove the top element                           |\n",
    "| `peek()` / `top()` | View the top element without removing it   |\n",
    "| `isEmpty()`  | Check if stack is empty                          |\n",
    "| `size()`     | Return the number of elements in the stack       |\n",
    "\n",
    "\n",
    "---\n",
    "\n",
    "### 📌 Real-Life Examples:\n",
    "- Browser Back button  \n",
    "- Undo operation in text editors  \n",
    "- Recursive function call stack  \n"
   ]
  },
  {
   "cell_type": "markdown",
   "metadata": {
    "id": "Jq6MMhawfhks"
   },
   "source": [
    "## Stack From Scratch"
   ]
  },
  {
   "cell_type": "code",
   "execution_count": 2,
   "metadata": {
    "colab": {
     "base_uri": "https://localhost:8080/"
    },
    "executionInfo": {
     "elapsed": 32,
     "status": "ok",
     "timestamp": 1754886463515,
     "user": {
      "displayName": "Kartik Rajesh Patel",
      "userId": "13704250535376199674"
     },
     "user_tz": -330
    },
    "id": "AdTT1ksjfk-C",
    "outputId": "1852b939-0a44-4d8d-bfe2-41cfcc29b99e"
   },
   "outputs": [
    {
     "name": "stdout",
     "output_type": "stream",
     "text": [
      "Initial Stack: []\n",
      "Stack after pushes: [10, 20, 30]\n",
      "Top element (peek): 30\n",
      "Removed element (pop): 30\n",
      "Stack after pop: [10, 20]\n",
      "Is stack empty? False\n",
      "Stack size: 2\n"
     ]
    }
   ],
   "source": [
    "# Stack implementation using a class\n",
    "class Stack:\n",
    "    def __init__(self):\n",
    "        self.stack = []  # internal list to store elements\n",
    "\n",
    "    # Push operation: Add element at the end\n",
    "    def push(self, item):\n",
    "        self.stack += [item]  # concatenation instead of append\n",
    "\n",
    "    # Pop operation: Remove and return top element\n",
    "    def pop(self):\n",
    "        if not self.isEmpty():\n",
    "            top_element = self.stack[len(self.stack)-1]\n",
    "            self.stack = self.stack[:-1]  # remove last element manually\n",
    "            return top_element\n",
    "        else:\n",
    "            return \"Stack Underflow\"\n",
    "\n",
    "    # Peek operation: Return top element without removing\n",
    "    def peek(self):\n",
    "        if not self.isEmpty():\n",
    "            return self.stack[len(self.stack)-1]\n",
    "        else:\n",
    "            return \"Stack is empty\"\n",
    "\n",
    "    # isEmpty operation: Check if stack is empty\n",
    "    def isEmpty(self):\n",
    "        return len(self.stack) == 0\n",
    "\n",
    "    # size operation: Return number of elements in stack\n",
    "    def size(self):\n",
    "        return len(self.stack)\n",
    "\n",
    "    # Display stack (for debugging)\n",
    "    def display(self):\n",
    "        return self.stack\n",
    "\n",
    "\n",
    "# Example usage:\n",
    "s = Stack()\n",
    "print(\"Initial Stack:\", s.display())\n",
    "\n",
    "s.push(10)\n",
    "s.push(20)\n",
    "s.push(30)\n",
    "print(\"Stack after pushes:\", s.display())\n",
    "\n",
    "print(\"Top element (peek):\", s.peek())\n",
    "\n",
    "print(\"Removed element (pop):\", s.pop())\n",
    "print(\"Stack after pop:\", s.display())\n",
    "\n",
    "print(\"Is stack empty?\", s.isEmpty())\n",
    "print(\"Stack size:\", s.size())\n"
   ]
  },
  {
   "cell_type": "markdown",
   "metadata": {
    "id": "t8cJCC8YepxO"
   },
   "source": [
    "## Declaration of Stack"
   ]
  },
  {
   "cell_type": "code",
   "execution_count": null,
   "metadata": {
    "id": "1dfuiZmvfP6x"
   },
   "outputs": [],
   "source": [
    "stack = []\n",
    "print(\"Initial stack:\", stack)\n"
   ]
  },
  {
   "cell_type": "markdown",
   "metadata": {
    "id": "OmWsPQNwfuZ2"
   },
   "source": [
    "## Functions in Stack"
   ]
  },
  {
   "cell_type": "markdown",
   "metadata": {
    "id": "hEFh8_VBfzpN"
   },
   "source": [
    "### 1. push ()"
   ]
  },
  {
   "cell_type": "code",
   "execution_count": null,
   "metadata": {
    "colab": {
     "base_uri": "https://localhost:8080/"
    },
    "executionInfo": {
     "elapsed": 40,
     "status": "ok",
     "timestamp": 1751385458875,
     "user": {
      "displayName": "Nayna Sagar Dahatonde",
      "userId": "08351810259517213934"
     },
     "user_tz": -330
    },
    "id": "2QzdMZjtgN8y",
    "outputId": "86b4f154-8291-48ea-e20f-dbc0539ef4c1"
   },
   "outputs": [
    {
     "name": "stdout",
     "output_type": "stream",
     "text": [
      "After push operations: [10, 20, 30]\n"
     ]
    }
   ],
   "source": [
    "stack = []\n",
    "stack.append(10)\n",
    "stack.append(20)\n",
    "stack.append(30)\n",
    "print(\"After push operations:\", stack)\n"
   ]
  },
  {
   "cell_type": "markdown",
   "metadata": {
    "id": "o2I4YfpsgQv4"
   },
   "source": [
    "## 2. pop ()"
   ]
  },
  {
   "cell_type": "code",
   "execution_count": null,
   "metadata": {
    "id": "Kh-sp8TSgU1K"
   },
   "outputs": [],
   "source": [
    "stack = [10, 20, 30]\n",
    "removed = stack.pop()\n",
    "print(\"Removed element:\", removed)\n",
    "print(\"After pop operation:\", stack)\n"
   ]
  },
  {
   "cell_type": "markdown",
   "metadata": {
    "id": "42CfXpX_gYlb"
   },
   "source": [
    "## 3. peek ()"
   ]
  },
  {
   "cell_type": "code",
   "execution_count": null,
   "metadata": {
    "id": "oTtEDGFzgbUm"
   },
   "outputs": [],
   "source": [
    "stack = [10, 20, 30]\n",
    "print(\"Top element:\", stack[-1])\n"
   ]
  },
  {
   "cell_type": "markdown",
   "metadata": {
    "id": "X5xhM6spgjDg"
   },
   "source": [
    "## 4. isEmpty() — Check if stack is empty"
   ]
  },
  {
   "cell_type": "code",
   "execution_count": null,
   "metadata": {
    "id": "N8eZreONgka5"
   },
   "outputs": [],
   "source": [
    "stack = []\n",
    "print(\"Is stack empty?\", len(stack) == 0)\n"
   ]
  },
  {
   "cell_type": "markdown",
   "metadata": {
    "id": "SHzEE3VagpAj"
   },
   "source": [
    "## 5. size ()"
   ]
  },
  {
   "cell_type": "code",
   "execution_count": null,
   "metadata": {
    "id": "iY5kpzMfhHGj"
   },
   "outputs": [],
   "source": [
    "stack = [10, 20, 30]\n",
    "print(\"Size of stack:\", len(stack))\n"
   ]
  },
  {
   "cell_type": "markdown",
   "metadata": {
    "id": "s-bNCrZRhJUL"
   },
   "source": [
    "# DSA Problems"
   ]
  },
  {
   "cell_type": "markdown",
   "metadata": {
    "id": "d2n2PIVAhLSd"
   },
   "source": [
    "### 1. Next Greater Element (NGE) Using Stack\n",
    "\n",
    "Problem:\n",
    "\n",
    "- Given an array, for each element, find the next greater element to its right. If there’s no greater element, print -1 for that position.\n",
    "\n",
    "- Solve this using a stack efficiently in O(n) time.\n",
    "\n",
    "**(Click Here to know more about Analysis of Algorithms :- )**\n",
    "\n",
    "Example\n",
    "\n",
    "Input: [4, 5, 2, 25]  \n",
    "Output: {4: 5, 5: 25, 2: 25, 25: -1}\n"
   ]
  },
  {
   "cell_type": "code",
   "execution_count": 3,
   "metadata": {
    "colab": {
     "base_uri": "https://localhost:8080/"
    },
    "executionInfo": {
     "elapsed": 18,
     "status": "ok",
     "timestamp": 1754888621767,
     "user": {
      "displayName": "Kartik Rajesh Patel",
      "userId": "13704250535376199674"
     },
     "user_tz": -330
    },
    "id": "cdA_WdlYiJvy",
    "outputId": "bea86eac-0da7-4d7b-8e5e-47b758b77405"
   },
   "outputs": [
    {
     "name": "stdout",
     "output_type": "stream",
     "text": [
      "Next Greater Elements: {4: 5, 2: 25, 5: 25, 25: -1}\n"
     ]
    }
   ],
   "source": [
    "def nextGreaterElement(arr):\n",
    "    result = {}\n",
    "    stack = []\n",
    "\n",
    "    for num in arr:\n",
    "        # Pop elements from stack if current num is greater\n",
    "        while stack and stack[-1] < num:\n",
    "            result[stack.pop()] = num\n",
    "        stack.append(num)\n",
    "\n",
    "    # Remaining elements have no greater element\n",
    "    while stack:\n",
    "        result[stack.pop()] = -1\n",
    "\n",
    "    return result\n",
    "\n",
    "# Test\n",
    "arr = [4, 5, 2, 25]\n",
    "print(\"Next Greater Elements:\", nextGreaterElement(arr))\n"
   ]
  },
  {
   "cell_type": "markdown",
   "metadata": {
    "id": "doHCj-ZwH8bM"
   },
   "source": [
    "### 2. Check for Balanced Parentheses\n",
    "\n",
    "Example:\n",
    "\n",
    "Input: \"{ [ ( ) ] }\" → Balanced\n",
    "\n",
    "Input: \"{ [ ( ] ) }\" → Not Balanced"
   ]
  },
  {
   "cell_type": "code",
   "execution_count": 4,
   "metadata": {
    "colab": {
     "base_uri": "https://localhost:8080/"
    },
    "executionInfo": {
     "elapsed": 25,
     "status": "ok",
     "timestamp": 1754889152111,
     "user": {
      "displayName": "Kartik Rajesh Patel",
      "userId": "13704250535376199674"
     },
     "user_tz": -330
    },
    "id": "qRiURjZ9IS1P",
    "outputId": "95190798-adb7-40da-8807-d7aa0ec7f3ec"
   },
   "outputs": [
    {
     "name": "stdout",
     "output_type": "stream",
     "text": [
      "Balanced\n",
      "Not Balanced\n"
     ]
    }
   ],
   "source": [
    "def isBalanced(expression):\n",
    "    stack = []\n",
    "    pairs = {')': '(', '}': '{', ']': '['}\n",
    "\n",
    "    for char in expression:\n",
    "        if char in '({[':\n",
    "            stack.append(char)\n",
    "        elif char in ')}]':\n",
    "            if not stack or stack[-1] != pairs[char]:\n",
    "                return \"Not Balanced\"\n",
    "            stack.pop()\n",
    "\n",
    "    return \"Balanced\" if not stack else \"Not Balanced\"\n",
    "\n",
    "# Test cases\n",
    "print(isBalanced(\"{[()]}\"))   # Balanced\n",
    "print(isBalanced(\"{[(])}\"))   # Not Balanced\n"
   ]
  },
  {
   "cell_type": "markdown",
   "metadata": {
    "id": "Ipw2SQJJIVBA"
   },
   "source": [
    "## 3. Reverse a String Using Stack\n",
    "\n",
    "Example:\n",
    "\n",
    "Input: \"hello\"\n",
    "\n",
    "Output: \"olleh\""
   ]
  },
  {
   "cell_type": "code",
   "execution_count": null,
   "metadata": {
    "colab": {
     "base_uri": "https://localhost:8080/"
    },
    "executionInfo": {
     "elapsed": 48,
     "status": "ok",
     "timestamp": 1751427245275,
     "user": {
      "displayName": "Nayna Sagar Dahatonde",
      "userId": "08351810259517213934"
     },
     "user_tz": -330
    },
    "id": "X1uox1sxJwdl",
    "outputId": "e46cd59c-ba58-4e56-8864-699ae3b77340"
   },
   "outputs": [
    {
     "name": "stdout",
     "output_type": "stream",
     "text": [
      "olleh\n"
     ]
    }
   ],
   "source": [
    "def reverseString(string):\n",
    "    stack = []\n",
    "\n",
    "    for char in string:\n",
    "        stack.append(char)\n",
    "\n",
    "    reversed_str = \"\"\n",
    "    while stack:\n",
    "        reversed_str += stack.pop()\n",
    "\n",
    "    return reversed_str\n",
    "\n",
    "# Test\n",
    "print(reverseString(\"hello\"))  # olleh\n"
   ]
  },
  {
   "cell_type": "markdown",
   "metadata": {
    "id": "dCx4X6OeKNLG"
   },
   "source": [
    "### 4. Sort a Stack (Using One More Stack)\n",
    "\n",
    "Example:\n",
    "\n",
    "Input: [34, 3, 31, 98, 92, 23]\n",
    "\n",
    "Output: [3, 23, 31, 34, 92, 98]"
   ]
  },
  {
   "cell_type": "code",
   "execution_count": null,
   "metadata": {
    "id": "H3Ynt0SzKjyb"
   },
   "outputs": [],
   "source": [
    "def sortStack(original_stack):\n",
    "    temp_stack = []\n",
    "\n",
    "    while original_stack:\n",
    "        temp = original_stack.pop()\n",
    "\n",
    "        while temp_stack and temp_stack[-1] > temp:\n",
    "            original_stack.append(temp_stack.pop())\n",
    "\n",
    "        temp_stack.append(temp)\n",
    "\n",
    "    return temp_stack\n",
    "\n",
    "# Test\n",
    "stack = [34, 3, 31, 98, 92, 23]\n",
    "sorted_stack = sortStack(stack)\n",
    "print(\"Sorted stack:\", sorted_stack)\n"
   ]
  }
 ],
 "metadata": {
  "colab": {
   "provenance": []
  },
  "kernelspec": {
   "display_name": "Python 3 (ipykernel)",
   "language": "python",
   "name": "python3"
  },
  "language_info": {
   "codemirror_mode": {
    "name": "ipython",
    "version": 3
   },
   "file_extension": ".py",
   "mimetype": "text/x-python",
   "name": "python",
   "nbconvert_exporter": "python",
   "pygments_lexer": "ipython3",
   "version": "3.12.3"
  }
 },
 "nbformat": 4,
 "nbformat_minor": 4
}
